{
 "cells": [
  {
   "cell_type": "code",
   "execution_count": 2,
   "metadata": {},
   "outputs": [],
   "source": [
    "import pandas as pd\n",
    "import numpy as np \n",
    "import matplotlib.pyplot as plt\n",
    "import csv\n",
    "from sklearn.preprocessing import LabelEncoder\n"
   ]
  },
  {
   "cell_type": "markdown",
   "metadata": {},
   "source": [
    "Getting the dataset and putting them into dataframe"
   ]
  },
  {
   "cell_type": "code",
   "execution_count": 3,
   "metadata": {},
   "outputs": [],
   "source": [
    "train_df = pd.read_csv('train.csv')\n",
    "test_df = pd.read_csv('test.csv')"
   ]
  },
  {
   "cell_type": "code",
   "execution_count": 4,
   "metadata": {},
   "outputs": [
    {
     "data": {
      "text/html": [
       "<div>\n",
       "<style scoped>\n",
       "    .dataframe tbody tr th:only-of-type {\n",
       "        vertical-align: middle;\n",
       "    }\n",
       "\n",
       "    .dataframe tbody tr th {\n",
       "        vertical-align: top;\n",
       "    }\n",
       "\n",
       "    .dataframe thead th {\n",
       "        text-align: right;\n",
       "    }\n",
       "</style>\n",
       "<table border=\"1\" class=\"dataframe\">\n",
       "  <thead>\n",
       "    <tr style=\"text-align: right;\">\n",
       "      <th></th>\n",
       "      <th>md5hash</th>\n",
       "      <th>fitzpatrick_scale</th>\n",
       "      <th>fitzpatrick_centaur</th>\n",
       "      <th>label</th>\n",
       "      <th>nine_partition_label</th>\n",
       "      <th>three_partition_label</th>\n",
       "      <th>qc</th>\n",
       "      <th>ddi_scale</th>\n",
       "    </tr>\n",
       "  </thead>\n",
       "  <tbody>\n",
       "    <tr>\n",
       "      <th>0</th>\n",
       "      <td>fd06d13de341cc75ad679916c5d7e6a6</td>\n",
       "      <td>4</td>\n",
       "      <td>4</td>\n",
       "      <td>prurigo-nodularis</td>\n",
       "      <td>benign-epidermal</td>\n",
       "      <td>benign</td>\n",
       "      <td>NaN</td>\n",
       "      <td>34</td>\n",
       "    </tr>\n",
       "    <tr>\n",
       "      <th>1</th>\n",
       "      <td>a4bb4e5206c4e89a303f470576fc5253</td>\n",
       "      <td>1</td>\n",
       "      <td>1</td>\n",
       "      <td>basal-cell-carcinoma-morpheiform</td>\n",
       "      <td>malignant-epidermal</td>\n",
       "      <td>malignant</td>\n",
       "      <td>NaN</td>\n",
       "      <td>12</td>\n",
       "    </tr>\n",
       "    <tr>\n",
       "      <th>2</th>\n",
       "      <td>c94ce27e389f96bda998e7c3fa5c4a2e</td>\n",
       "      <td>5</td>\n",
       "      <td>5</td>\n",
       "      <td>keloid</td>\n",
       "      <td>inflammatory</td>\n",
       "      <td>non-neoplastic</td>\n",
       "      <td>1 Diagnostic</td>\n",
       "      <td>56</td>\n",
       "    </tr>\n",
       "    <tr>\n",
       "      <th>3</th>\n",
       "      <td>ebcf2b50dd943c700d4e2b586fcd4425</td>\n",
       "      <td>3</td>\n",
       "      <td>3</td>\n",
       "      <td>basal-cell-carcinoma</td>\n",
       "      <td>malignant-epidermal</td>\n",
       "      <td>malignant</td>\n",
       "      <td>NaN</td>\n",
       "      <td>34</td>\n",
       "    </tr>\n",
       "    <tr>\n",
       "      <th>4</th>\n",
       "      <td>c77d6c895f05fea73a8f3704307036c0</td>\n",
       "      <td>1</td>\n",
       "      <td>1</td>\n",
       "      <td>prurigo-nodularis</td>\n",
       "      <td>benign-epidermal</td>\n",
       "      <td>benign</td>\n",
       "      <td>NaN</td>\n",
       "      <td>12</td>\n",
       "    </tr>\n",
       "  </tbody>\n",
       "</table>\n",
       "</div>"
      ],
      "text/plain": [
       "                            md5hash  fitzpatrick_scale  fitzpatrick_centaur  \\\n",
       "0  fd06d13de341cc75ad679916c5d7e6a6                  4                    4   \n",
       "1  a4bb4e5206c4e89a303f470576fc5253                  1                    1   \n",
       "2  c94ce27e389f96bda998e7c3fa5c4a2e                  5                    5   \n",
       "3  ebcf2b50dd943c700d4e2b586fcd4425                  3                    3   \n",
       "4  c77d6c895f05fea73a8f3704307036c0                  1                    1   \n",
       "\n",
       "                              label nine_partition_label  \\\n",
       "0                 prurigo-nodularis     benign-epidermal   \n",
       "1  basal-cell-carcinoma-morpheiform  malignant-epidermal   \n",
       "2                            keloid         inflammatory   \n",
       "3              basal-cell-carcinoma  malignant-epidermal   \n",
       "4                 prurigo-nodularis     benign-epidermal   \n",
       "\n",
       "  three_partition_label            qc  ddi_scale  \n",
       "0                benign           NaN         34  \n",
       "1             malignant           NaN         12  \n",
       "2        non-neoplastic  1 Diagnostic         56  \n",
       "3             malignant           NaN         34  \n",
       "4                benign           NaN         12  "
      ]
     },
     "execution_count": 4,
     "metadata": {},
     "output_type": "execute_result"
    }
   ],
   "source": [
    "train_df.head()"
   ]
  },
  {
   "cell_type": "code",
   "execution_count": 5,
   "metadata": {},
   "outputs": [
    {
     "name": "stdout",
     "output_type": "stream",
     "text": [
      "       fitzpatrick_scale  fitzpatrick_centaur    ddi_scale\n",
      "count        2860.000000          2860.000000  2860.000000\n",
      "mean            2.524476             2.095455    23.547552\n",
      "std             1.474428             1.510942    15.530522\n",
      "min            -1.000000            -1.000000    -1.000000\n",
      "25%             2.000000             1.000000    12.000000\n",
      "50%             2.000000             2.000000    12.000000\n",
      "75%             3.000000             3.000000    34.000000\n",
      "max             6.000000             6.000000    56.000000\n"
     ]
    }
   ],
   "source": [
    "print(train_df.describe())"
   ]
  },
  {
   "cell_type": "code",
   "execution_count": 6,
   "metadata": {},
   "outputs": [
    {
     "name": "stdout",
     "output_type": "stream",
     "text": [
      "md5hash                     0\n",
      "fitzpatrick_scale           0\n",
      "fitzpatrick_centaur         0\n",
      "label                       0\n",
      "nine_partition_label        0\n",
      "three_partition_label       0\n",
      "qc                       2770\n",
      "ddi_scale                   0\n",
      "dtype: int64\n"
     ]
    }
   ],
   "source": [
    "print(train_df.isnull().sum())"
   ]
  },
  {
   "cell_type": "markdown",
   "metadata": {},
   "source": [
    "Since we have the professional version of the scale(FST) we can replace the ddi_scale that is missing or not professional"
   ]
  },
  {
   "cell_type": "code",
   "execution_count": 7,
   "metadata": {},
   "outputs": [],
   "source": [
    "train_df['fitzpatrick_scale'] = train_df['fitzpatrick_centaur']\n",
    "test_df['fitzpatrick_scale'] = test_df['fitzpatrick_centaur']"
   ]
  },
  {
   "cell_type": "markdown",
   "metadata": {},
   "source": [
    "Drop the column that we just replaced"
   ]
  },
  {
   "cell_type": "code",
   "execution_count": 8,
   "metadata": {},
   "outputs": [],
   "source": [
    "train_df = train_df.drop(columns=['ddi_scale'])\n",
    "test_df = test_df.drop(columns=['ddi_scale'])\n"
   ]
  },
  {
   "cell_type": "markdown",
   "metadata": {},
   "source": [
    "As we said there were some wrongly labeled columns so i am going to get rid of those "
   ]
  },
  {
   "cell_type": "code",
   "execution_count": 9,
   "metadata": {},
   "outputs": [],
   "source": [
    "train_df = train_df[train_df['qc'] != '3 Wrongly labelled']\n",
    "test_df = test_df[test_df['qc'] != '3 Wrongly labelled']"
   ]
  },
  {
   "cell_type": "code",
   "execution_count": 10,
   "metadata": {},
   "outputs": [
    {
     "name": "stdout",
     "output_type": "stream",
     "text": [
      "       fitzpatrick_scale  fitzpatrick_centaur\n",
      "count        2856.000000          2856.000000\n",
      "mean            2.093137             2.093137\n",
      "std             1.509251             1.509251\n",
      "min            -1.000000            -1.000000\n",
      "25%             1.000000             1.000000\n",
      "50%             2.000000             2.000000\n",
      "75%             3.000000             3.000000\n",
      "max             6.000000             6.000000\n"
     ]
    }
   ],
   "source": [
    "print(train_df.describe())"
   ]
  },
  {
   "cell_type": "code",
   "execution_count": 11,
   "metadata": {},
   "outputs": [
    {
     "name": "stdout",
     "output_type": "stream",
     "text": [
      "Unique 'qc' values in training data after removal: [nan '1 Diagnostic' '5 Potentially' '4 Other' '2 Characteristic']\n",
      "Unique 'qc' values in test data after removal: [nan '1 Diagnostic' '5 Potentially' '2 Characteristic']\n"
     ]
    }
   ],
   "source": [
    "# Check unique values in the 'qc' column for training data\n",
    "print(\"Unique 'qc' values in training data after removal:\", train_df['qc'].unique())\n",
    "\n",
    "# Check unique values in the 'qc' column for test data\n",
    "print(\"Unique 'qc' values in test data after removal:\", test_df['qc'].unique())"
   ]
  },
  {
   "cell_type": "markdown",
   "metadata": {},
   "source": [
    "Changing the labels to numerical values"
   ]
  },
  {
   "cell_type": "code",
   "execution_count": 12,
   "metadata": {},
   "outputs": [],
   "source": [
    "label_encoder = LabelEncoder()\n",
    "train_df['label_numerical'] = label_encoder.fit_transform(train_df['label'])"
   ]
  },
  {
   "cell_type": "code",
   "execution_count": 13,
   "metadata": {},
   "outputs": [
    {
     "data": {
      "text/html": [
       "<div>\n",
       "<style scoped>\n",
       "    .dataframe tbody tr th:only-of-type {\n",
       "        vertical-align: middle;\n",
       "    }\n",
       "\n",
       "    .dataframe tbody tr th {\n",
       "        vertical-align: top;\n",
       "    }\n",
       "\n",
       "    .dataframe thead th {\n",
       "        text-align: right;\n",
       "    }\n",
       "</style>\n",
       "<table border=\"1\" class=\"dataframe\">\n",
       "  <thead>\n",
       "    <tr style=\"text-align: right;\">\n",
       "      <th></th>\n",
       "      <th>md5hash</th>\n",
       "      <th>fitzpatrick_scale</th>\n",
       "      <th>fitzpatrick_centaur</th>\n",
       "      <th>label</th>\n",
       "      <th>nine_partition_label</th>\n",
       "      <th>three_partition_label</th>\n",
       "      <th>qc</th>\n",
       "      <th>label_numerical</th>\n",
       "    </tr>\n",
       "  </thead>\n",
       "  <tbody>\n",
       "    <tr>\n",
       "      <th>0</th>\n",
       "      <td>fd06d13de341cc75ad679916c5d7e6a6</td>\n",
       "      <td>4</td>\n",
       "      <td>4</td>\n",
       "      <td>prurigo-nodularis</td>\n",
       "      <td>benign-epidermal</td>\n",
       "      <td>benign</td>\n",
       "      <td>NaN</td>\n",
       "      <td>16</td>\n",
       "    </tr>\n",
       "    <tr>\n",
       "      <th>1</th>\n",
       "      <td>a4bb4e5206c4e89a303f470576fc5253</td>\n",
       "      <td>1</td>\n",
       "      <td>1</td>\n",
       "      <td>basal-cell-carcinoma-morpheiform</td>\n",
       "      <td>malignant-epidermal</td>\n",
       "      <td>malignant</td>\n",
       "      <td>NaN</td>\n",
       "      <td>4</td>\n",
       "    </tr>\n",
       "    <tr>\n",
       "      <th>2</th>\n",
       "      <td>c94ce27e389f96bda998e7c3fa5c4a2e</td>\n",
       "      <td>5</td>\n",
       "      <td>5</td>\n",
       "      <td>keloid</td>\n",
       "      <td>inflammatory</td>\n",
       "      <td>non-neoplastic</td>\n",
       "      <td>1 Diagnostic</td>\n",
       "      <td>12</td>\n",
       "    </tr>\n",
       "    <tr>\n",
       "      <th>3</th>\n",
       "      <td>ebcf2b50dd943c700d4e2b586fcd4425</td>\n",
       "      <td>3</td>\n",
       "      <td>3</td>\n",
       "      <td>basal-cell-carcinoma</td>\n",
       "      <td>malignant-epidermal</td>\n",
       "      <td>malignant</td>\n",
       "      <td>NaN</td>\n",
       "      <td>3</td>\n",
       "    </tr>\n",
       "    <tr>\n",
       "      <th>4</th>\n",
       "      <td>c77d6c895f05fea73a8f3704307036c0</td>\n",
       "      <td>1</td>\n",
       "      <td>1</td>\n",
       "      <td>prurigo-nodularis</td>\n",
       "      <td>benign-epidermal</td>\n",
       "      <td>benign</td>\n",
       "      <td>NaN</td>\n",
       "      <td>16</td>\n",
       "    </tr>\n",
       "  </tbody>\n",
       "</table>\n",
       "</div>"
      ],
      "text/plain": [
       "                            md5hash  fitzpatrick_scale  fitzpatrick_centaur  \\\n",
       "0  fd06d13de341cc75ad679916c5d7e6a6                  4                    4   \n",
       "1  a4bb4e5206c4e89a303f470576fc5253                  1                    1   \n",
       "2  c94ce27e389f96bda998e7c3fa5c4a2e                  5                    5   \n",
       "3  ebcf2b50dd943c700d4e2b586fcd4425                  3                    3   \n",
       "4  c77d6c895f05fea73a8f3704307036c0                  1                    1   \n",
       "\n",
       "                              label nine_partition_label  \\\n",
       "0                 prurigo-nodularis     benign-epidermal   \n",
       "1  basal-cell-carcinoma-morpheiform  malignant-epidermal   \n",
       "2                            keloid         inflammatory   \n",
       "3              basal-cell-carcinoma  malignant-epidermal   \n",
       "4                 prurigo-nodularis     benign-epidermal   \n",
       "\n",
       "  three_partition_label            qc  label_numerical  \n",
       "0                benign           NaN               16  \n",
       "1             malignant           NaN                4  \n",
       "2        non-neoplastic  1 Diagnostic               12  \n",
       "3             malignant           NaN                3  \n",
       "4                benign           NaN               16  "
      ]
     },
     "execution_count": 13,
     "metadata": {},
     "output_type": "execute_result"
    }
   ],
   "source": [
    "train_df.head()"
   ]
  },
  {
   "cell_type": "markdown",
   "metadata": {},
   "source": [
    "We will also convert the nine partition "
   ]
  },
  {
   "cell_type": "code",
   "execution_count": 14,
   "metadata": {},
   "outputs": [],
   "source": [
    "train_df['nine_partition_numerical'] = label_encoder.fit_transform(train_df['nine_partition_label'])\n",
    "train_df['three_partition_numerical'] = label_encoder.fit_transform(train_df['three_partition_label']) \n",
    "\n"
   ]
  },
  {
   "cell_type": "code",
   "execution_count": 15,
   "metadata": {},
   "outputs": [
    {
     "name": "stdout",
     "output_type": "stream",
     "text": [
      "md5hash                         0\n",
      "fitzpatrick_scale               0\n",
      "fitzpatrick_centaur             0\n",
      "label                           0\n",
      "nine_partition_label            0\n",
      "three_partition_label           0\n",
      "qc                           2770\n",
      "label_numerical                 0\n",
      "nine_partition_numerical        0\n",
      "three_partition_numerical       0\n",
      "dtype: int64\n"
     ]
    }
   ],
   "source": [
    "print(train_df.isnull().sum())"
   ]
  },
  {
   "cell_type": "code",
   "execution_count": 16,
   "metadata": {},
   "outputs": [
    {
     "data": {
      "text/html": [
       "<div>\n",
       "<style scoped>\n",
       "    .dataframe tbody tr th:only-of-type {\n",
       "        vertical-align: middle;\n",
       "    }\n",
       "\n",
       "    .dataframe tbody tr th {\n",
       "        vertical-align: top;\n",
       "    }\n",
       "\n",
       "    .dataframe thead th {\n",
       "        text-align: right;\n",
       "    }\n",
       "</style>\n",
       "<table border=\"1\" class=\"dataframe\">\n",
       "  <thead>\n",
       "    <tr style=\"text-align: right;\">\n",
       "      <th></th>\n",
       "      <th>md5hash</th>\n",
       "      <th>fitzpatrick_scale</th>\n",
       "      <th>fitzpatrick_centaur</th>\n",
       "      <th>label</th>\n",
       "      <th>nine_partition_label</th>\n",
       "      <th>three_partition_label</th>\n",
       "      <th>qc</th>\n",
       "      <th>label_numerical</th>\n",
       "      <th>nine_partition_numerical</th>\n",
       "      <th>three_partition_numerical</th>\n",
       "    </tr>\n",
       "  </thead>\n",
       "  <tbody>\n",
       "    <tr>\n",
       "      <th>0</th>\n",
       "      <td>fd06d13de341cc75ad679916c5d7e6a6</td>\n",
       "      <td>4</td>\n",
       "      <td>4</td>\n",
       "      <td>prurigo-nodularis</td>\n",
       "      <td>benign-epidermal</td>\n",
       "      <td>benign</td>\n",
       "      <td>NaN</td>\n",
       "      <td>16</td>\n",
       "      <td>1</td>\n",
       "      <td>0</td>\n",
       "    </tr>\n",
       "    <tr>\n",
       "      <th>1</th>\n",
       "      <td>a4bb4e5206c4e89a303f470576fc5253</td>\n",
       "      <td>1</td>\n",
       "      <td>1</td>\n",
       "      <td>basal-cell-carcinoma-morpheiform</td>\n",
       "      <td>malignant-epidermal</td>\n",
       "      <td>malignant</td>\n",
       "      <td>NaN</td>\n",
       "      <td>4</td>\n",
       "      <td>5</td>\n",
       "      <td>1</td>\n",
       "    </tr>\n",
       "    <tr>\n",
       "      <th>2</th>\n",
       "      <td>c94ce27e389f96bda998e7c3fa5c4a2e</td>\n",
       "      <td>5</td>\n",
       "      <td>5</td>\n",
       "      <td>keloid</td>\n",
       "      <td>inflammatory</td>\n",
       "      <td>non-neoplastic</td>\n",
       "      <td>1 Diagnostic</td>\n",
       "      <td>12</td>\n",
       "      <td>2</td>\n",
       "      <td>2</td>\n",
       "    </tr>\n",
       "    <tr>\n",
       "      <th>3</th>\n",
       "      <td>ebcf2b50dd943c700d4e2b586fcd4425</td>\n",
       "      <td>3</td>\n",
       "      <td>3</td>\n",
       "      <td>basal-cell-carcinoma</td>\n",
       "      <td>malignant-epidermal</td>\n",
       "      <td>malignant</td>\n",
       "      <td>NaN</td>\n",
       "      <td>3</td>\n",
       "      <td>5</td>\n",
       "      <td>1</td>\n",
       "    </tr>\n",
       "    <tr>\n",
       "      <th>4</th>\n",
       "      <td>c77d6c895f05fea73a8f3704307036c0</td>\n",
       "      <td>1</td>\n",
       "      <td>1</td>\n",
       "      <td>prurigo-nodularis</td>\n",
       "      <td>benign-epidermal</td>\n",
       "      <td>benign</td>\n",
       "      <td>NaN</td>\n",
       "      <td>16</td>\n",
       "      <td>1</td>\n",
       "      <td>0</td>\n",
       "    </tr>\n",
       "  </tbody>\n",
       "</table>\n",
       "</div>"
      ],
      "text/plain": [
       "                            md5hash  fitzpatrick_scale  fitzpatrick_centaur  \\\n",
       "0  fd06d13de341cc75ad679916c5d7e6a6                  4                    4   \n",
       "1  a4bb4e5206c4e89a303f470576fc5253                  1                    1   \n",
       "2  c94ce27e389f96bda998e7c3fa5c4a2e                  5                    5   \n",
       "3  ebcf2b50dd943c700d4e2b586fcd4425                  3                    3   \n",
       "4  c77d6c895f05fea73a8f3704307036c0                  1                    1   \n",
       "\n",
       "                              label nine_partition_label  \\\n",
       "0                 prurigo-nodularis     benign-epidermal   \n",
       "1  basal-cell-carcinoma-morpheiform  malignant-epidermal   \n",
       "2                            keloid         inflammatory   \n",
       "3              basal-cell-carcinoma  malignant-epidermal   \n",
       "4                 prurigo-nodularis     benign-epidermal   \n",
       "\n",
       "  three_partition_label            qc  label_numerical  \\\n",
       "0                benign           NaN               16   \n",
       "1             malignant           NaN                4   \n",
       "2        non-neoplastic  1 Diagnostic               12   \n",
       "3             malignant           NaN                3   \n",
       "4                benign           NaN               16   \n",
       "\n",
       "   nine_partition_numerical  three_partition_numerical  \n",
       "0                         1                          0  \n",
       "1                         5                          1  \n",
       "2                         2                          2  \n",
       "3                         5                          1  \n",
       "4                         1                          0  "
      ]
     },
     "execution_count": 16,
     "metadata": {},
     "output_type": "execute_result"
    }
   ],
   "source": [
    "train_df.head()"
   ]
  },
  {
   "cell_type": "markdown",
   "metadata": {},
   "source": [
    "drop the columns that we did the one hot encoding on "
   ]
  },
  {
   "cell_type": "code",
   "execution_count": 17,
   "metadata": {},
   "outputs": [],
   "source": [
    "train_df = train_df.drop(['label', 'three_partition_label', 'nine_partition_label'], axis=1)"
   ]
  },
  {
   "cell_type": "code",
   "execution_count": 18,
   "metadata": {},
   "outputs": [
    {
     "data": {
      "text/html": [
       "<div>\n",
       "<style scoped>\n",
       "    .dataframe tbody tr th:only-of-type {\n",
       "        vertical-align: middle;\n",
       "    }\n",
       "\n",
       "    .dataframe tbody tr th {\n",
       "        vertical-align: top;\n",
       "    }\n",
       "\n",
       "    .dataframe thead th {\n",
       "        text-align: right;\n",
       "    }\n",
       "</style>\n",
       "<table border=\"1\" class=\"dataframe\">\n",
       "  <thead>\n",
       "    <tr style=\"text-align: right;\">\n",
       "      <th></th>\n",
       "      <th>md5hash</th>\n",
       "      <th>fitzpatrick_scale</th>\n",
       "      <th>fitzpatrick_centaur</th>\n",
       "      <th>qc</th>\n",
       "      <th>label_numerical</th>\n",
       "      <th>nine_partition_numerical</th>\n",
       "      <th>three_partition_numerical</th>\n",
       "    </tr>\n",
       "  </thead>\n",
       "  <tbody>\n",
       "    <tr>\n",
       "      <th>0</th>\n",
       "      <td>fd06d13de341cc75ad679916c5d7e6a6</td>\n",
       "      <td>4</td>\n",
       "      <td>4</td>\n",
       "      <td>NaN</td>\n",
       "      <td>16</td>\n",
       "      <td>1</td>\n",
       "      <td>0</td>\n",
       "    </tr>\n",
       "    <tr>\n",
       "      <th>1</th>\n",
       "      <td>a4bb4e5206c4e89a303f470576fc5253</td>\n",
       "      <td>1</td>\n",
       "      <td>1</td>\n",
       "      <td>NaN</td>\n",
       "      <td>4</td>\n",
       "      <td>5</td>\n",
       "      <td>1</td>\n",
       "    </tr>\n",
       "    <tr>\n",
       "      <th>2</th>\n",
       "      <td>c94ce27e389f96bda998e7c3fa5c4a2e</td>\n",
       "      <td>5</td>\n",
       "      <td>5</td>\n",
       "      <td>1 Diagnostic</td>\n",
       "      <td>12</td>\n",
       "      <td>2</td>\n",
       "      <td>2</td>\n",
       "    </tr>\n",
       "    <tr>\n",
       "      <th>3</th>\n",
       "      <td>ebcf2b50dd943c700d4e2b586fcd4425</td>\n",
       "      <td>3</td>\n",
       "      <td>3</td>\n",
       "      <td>NaN</td>\n",
       "      <td>3</td>\n",
       "      <td>5</td>\n",
       "      <td>1</td>\n",
       "    </tr>\n",
       "    <tr>\n",
       "      <th>4</th>\n",
       "      <td>c77d6c895f05fea73a8f3704307036c0</td>\n",
       "      <td>1</td>\n",
       "      <td>1</td>\n",
       "      <td>NaN</td>\n",
       "      <td>16</td>\n",
       "      <td>1</td>\n",
       "      <td>0</td>\n",
       "    </tr>\n",
       "  </tbody>\n",
       "</table>\n",
       "</div>"
      ],
      "text/plain": [
       "                            md5hash  fitzpatrick_scale  fitzpatrick_centaur  \\\n",
       "0  fd06d13de341cc75ad679916c5d7e6a6                  4                    4   \n",
       "1  a4bb4e5206c4e89a303f470576fc5253                  1                    1   \n",
       "2  c94ce27e389f96bda998e7c3fa5c4a2e                  5                    5   \n",
       "3  ebcf2b50dd943c700d4e2b586fcd4425                  3                    3   \n",
       "4  c77d6c895f05fea73a8f3704307036c0                  1                    1   \n",
       "\n",
       "             qc  label_numerical  nine_partition_numerical  \\\n",
       "0           NaN               16                         1   \n",
       "1           NaN                4                         5   \n",
       "2  1 Diagnostic               12                         2   \n",
       "3           NaN                3                         5   \n",
       "4           NaN               16                         1   \n",
       "\n",
       "   three_partition_numerical  \n",
       "0                          0  \n",
       "1                          1  \n",
       "2                          2  \n",
       "3                          1  \n",
       "4                          0  "
      ]
     },
     "execution_count": 18,
     "metadata": {},
     "output_type": "execute_result"
    }
   ],
   "source": [
    "train_df.head()"
   ]
  }
 ],
 "metadata": {
  "kernelspec": {
   "display_name": "Python 3",
   "language": "python",
   "name": "python3"
  },
  "language_info": {
   "codemirror_mode": {
    "name": "ipython",
    "version": 3
   },
   "file_extension": ".py",
   "mimetype": "text/x-python",
   "name": "python",
   "nbconvert_exporter": "python",
   "pygments_lexer": "ipython3",
   "version": "3.11.9"
  }
 },
 "nbformat": 4,
 "nbformat_minor": 2
}
